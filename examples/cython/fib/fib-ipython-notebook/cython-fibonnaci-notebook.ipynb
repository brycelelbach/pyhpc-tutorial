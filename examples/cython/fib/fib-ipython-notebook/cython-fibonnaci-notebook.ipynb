{
 "metadata": {
  "name": "cython-fibonnaci-notebook"
 },
 "nbformat": 3,
 "nbformat_minor": 0,
 "worksheets": [
  {
   "cells": [
    {
     "cell_type": "code",
     "collapsed": false,
     "input": [
      "%load_ext cythonmagic"
     ],
     "language": "python",
     "metadata": {},
     "outputs": [],
     "prompt_number": 1
    },
    {
     "cell_type": "code",
     "collapsed": false,
     "input": [
      "%%cython\n",
      "def fib(int n):\n",
      "    cdef int i, a, b\n",
      "    a, b = 0, 1\n",
      "    for i in range(n):\n",
      "        a, b = a+b, a\n",
      "    return a"
     ],
     "language": "python",
     "metadata": {},
     "outputs": [],
     "prompt_number": 10
    },
    {
     "cell_type": "code",
     "collapsed": false,
     "input": [
      "%%cython\n",
      "import cython\n",
      "@cython.locals(n=cython.int)\n",
      "def fib_pure(n):\n",
      "    cython.declare(i=cython.int,\n",
      "                   a=cython.int,\n",
      "                   b=cython.int)\n",
      "    a,b = 0,1\n",
      "    for i in range(n):\n",
      "        a, b = a+b, a\n",
      "    return a"
     ],
     "language": "python",
     "metadata": {},
     "outputs": [],
     "prompt_number": 11
    }
   ],
   "metadata": {}
  }
 ]
}