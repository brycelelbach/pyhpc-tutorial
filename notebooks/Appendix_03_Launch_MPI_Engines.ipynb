{
 "metadata": {
  "name": "Appendix_03_Launch_MPI_Engines"
 },
 "nbformat": 3,
 "nbformat_minor": 0,
 "worksheets": [
  {
   "cells": [
    {
     "cell_type": "code",
     "collapsed": false,
     "input": [
      "!ipcluster start --engines=MPI --n 4"
     ],
     "language": "python",
     "metadata": {},
     "outputs": [
      {
       "output_type": "stream",
       "stream": "stdout",
       "text": [
        "2012-11-05 20:32:02,225.225 [IPClusterStart] Using existing profile dir: u'/Users/aterrel/.ipython/profile_default'\r\n",
        "2012-11-05 20:32:02.229 [IPClusterStart] Starting ipcluster with [daemon=False]\r\n",
        "2012-11-05 20:32:02.229 [IPClusterStart] Creating pid file: /Users/aterrel/.ipython/profile_default/pid/ipcluster.pid\r\n",
        "2012-11-05 20:32:02.229 [IPClusterStart] Starting Controller with LocalControllerLauncher\r\n"
       ]
      },
      {
       "output_type": "stream",
       "stream": "stdout",
       "text": [
        "2012-11-05 20:32:03.230 [IPClusterStart] Starting 4 Engines with MPI\r\n"
       ]
      },
      {
       "output_type": "stream",
       "stream": "stdout",
       "text": [
        "2012-11-05 20:32:33.239 [IPClusterStart] Engines appear to have started successfully\r\n"
       ]
      }
     ],
     "prompt_number": "*"
    },
    {
     "cell_type": "code",
     "collapsed": false,
     "input": [
      "!ipcluster stop"
     ],
     "language": "python",
     "metadata": {},
     "outputs": [
      {
       "output_type": "stream",
       "stream": "stdout",
       "text": [
        "2012-11-05 20:31:38,344.344 [IPClusterStop] Using existing profile dir: u'/Users/aterrel/.ipython/profile_default'\r\n"
       ]
      },
      {
       "output_type": "stream",
       "stream": "stdout",
       "text": [
        "2012-11-05 20:31:38.381 [IPClusterStop] Cluster [pid=32847] is not running.\r\n",
        "2012-11-05 20:31:38.382 [IPClusterStop] Removing pid file: /Users/aterrel/.ipython/profile_default/pid/ipcluster.pid\r\n"
       ]
      }
     ],
     "prompt_number": 2
    },
    {
     "cell_type": "code",
     "collapsed": false,
     "input": [],
     "language": "python",
     "metadata": {},
     "outputs": []
    }
   ],
   "metadata": {}
  }
 ]
}